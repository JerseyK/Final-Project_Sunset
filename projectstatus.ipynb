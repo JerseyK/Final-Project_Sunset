{
 "cells": [
  {
   "cell_type": "markdown",
   "id": "d2cc4a01-70a1-4f45-a281-77e9613e0faf",
   "metadata": {},
   "source": [
    "# Data Sources\n",
    "- [cust_supply_2019_2022.csv](inputs/cust_supply_2019_2022.csv) provided by Dr. Bowen\n",
    "- SP500 data (obtained from scarping Wikipedia)\n",
    "- Data from the accounting dataset provided by Dr. Bowen based on variables we determined after our data cleaning on the compustat dataset \n",
    "    - Variables:\n",
    "    - fyear (fiscal year)\n",
    "    - sale (net sales)\n",
    "    - acominc (net income)\n",
    "    - at (total assets)\n",
    "    - capx (capex, dollar amount)\n",
    "    - capxv (capex ratio for current fiscal year)\n",
    "    - cogs (cost of goods sold)\n",
    "    - gp (gross profit)\n",
    "    - epsfx (eps basic (takes into account the actual number of shares outstanding, and does not include any potentially dilutive securities))\n"
   ]
  },
  {
   "cell_type": "markdown",
   "id": "b4bcbe3f-8e87-41cf-9975-eea09a53752c",
   "metadata": {},
   "source": [
    "# Data\n",
    "- We acquired our data from Dr. Bowen as a .csv file\n",
    "- To load the data into python we used `pd.read_csv('inputs/cust_supply_2019_2022.csv')`\n",
    "- we then downloaded the SP500 data by \n",
    "```python\n",
    "os.makedirs(\"inputs\", exist_ok=True)\n",
    "sp500_file = 'inputs/sp500_2022.csv'\n",
    "\n",
    "if not os.path.exists(sp500_file):\n",
    "    url = 'https://en.wikipedia.org/wiki/List_of_S%26P_500_companies'\n",
    "    pd.read_html(url)[0].to_csv(sp500_file,index=False)\n",
    "    \n",
    "sp500 = pd.read_csv('inputs/sp500_2022.csv')\n",
    "sp500    \n",
    "```"
   ]
  },
  {
   "cell_type": "markdown",
   "id": "4dea55df-2ee0-4638-b51d-8e511fbf63e8",
   "metadata": {},
   "source": [
    "# EDA\n",
    "- We used `eda.py` file from the community codebook to perform EDA on the raw compustat data\n",
    "```python\n",
    "insufficient_but_starting_eda(comp, ['cnms', 'ctype', 'gareac', 'gareat', 'stype', 'srcdate', 'conm', 'tic', 'cusip'])\n",
    "```\n",
    "- We found that\n",
    "    - there are 77901 data entries in this csv\n",
    "    - there are 9 categorical variables\n",
    "    - there are 6 numerical variables\n",
    "    - the unit level is sales\n",
    "    - the only variables with missing data are \n",
    "        - gareac (57.8%) \n",
    "        - gareat (57.8%)\n",
    "        - stype (14.0%)\n",
    "        - salecs (12.4%)\n",
    "        - cik (0.6%)\n",
    "\n",
    "\n",
    "Additional EDA will be done once we recieve the accounting data from Dr. Bowen"
   ]
  },
  {
   "cell_type": "markdown",
   "id": "7717596b-b3b7-45d7-89ba-fe0d85cd31d2",
   "metadata": {},
   "source": [
    "# Cleaning \n",
    "- Initially, on the compustat data, we filtered to just look at just company in company type (`ctype`), that query only provided us with about 150 firms. Therefore we, decided to look at all company types (`ctypes`) as it provided about twice the amount of data (about 350 firms).\n",
    "- This also provided us with a more hollistic view of the firms financials\n",
    "    - for example AAPL did not report selling to specific companies, and in the initial method would have not been included in our list of firms that we are observing \n",
    "\n",
    "```python\n",
    "comp2 = comp\n",
    "#comp2 = comp[comp['ctype'] == 'COMPANY']\n",
    "comp2 = comp2[comp2['cnms'] != 'Not Reported']\n",
    "# comp4 = comp2[comp2['cnms'] == 'Not Reported']\n",
    "# comp4\n",
    "\n",
    "comp3 = comp2.dropna(subset=['salecs'])\n",
    "comp3\n",
    "```\n",
    "- Additionally, we made sure our columns in compustat matched the names in the SP500 dataset before merging\n",
    "    - We renamed `cik` to `CIK` to match"
   ]
  },
  {
   "cell_type": "code",
   "execution_count": null,
   "id": "538bb821-b429-4f97-bcb6-f1a10a00674d",
   "metadata": {},
   "outputs": [],
   "source": []
  },
  {
   "cell_type": "code",
   "execution_count": null,
   "id": "655bacb1-7d26-4b98-8570-0a0176eed4bd",
   "metadata": {},
   "outputs": [],
   "source": []
  },
  {
   "cell_type": "code",
   "execution_count": null,
   "id": "e8485a57-3b41-46e8-8f2f-e97ab7f7c3c7",
   "metadata": {},
   "outputs": [],
   "source": []
  },
  {
   "cell_type": "code",
   "execution_count": null,
   "id": "1eb405e0-888b-4273-bb7c-87410cff9730",
   "metadata": {},
   "outputs": [],
   "source": []
  }
 ],
 "metadata": {
  "kernelspec": {
   "display_name": "Python 3 (ipykernel)",
   "language": "python",
   "name": "python3"
  },
  "language_info": {
   "codemirror_mode": {
    "name": "ipython",
    "version": 3
   },
   "file_extension": ".py",
   "mimetype": "text/x-python",
   "name": "python",
   "nbconvert_exporter": "python",
   "pygments_lexer": "ipython3",
   "version": "3.9.13"
  }
 },
 "nbformat": 4,
 "nbformat_minor": 5
}
