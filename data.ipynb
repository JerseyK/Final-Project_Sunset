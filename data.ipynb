{
 "cells": [
  {
   "cell_type": "markdown",
   "id": "78217b2f-0088-4c0d-96fc-ccb3fa3378fc",
   "metadata": {},
   "source": [
    "### Here is a breakdown of what each column represents:\n",
    "\n",
    "- gvkey: a unique identifier for the company (Global Company Key)\n",
    "- cid: a unique identifier for the customer\n",
    "- cnms: customer name\n",
    "- ctype: customer type\n",
    "- gareac: geographic area code\n",
    "- gareat: geographic area type\n",
    "- salecs: sales in current period (in millions)\n",
    "- sid: segment identifier\n",
    "- stype: segment type\n",
    "- srcdate: source date\n",
    "- conm: company name\n",
    "- tic: stock ticker symbol\n",
    "- cusip: CUSIP number, a unique identifier for a security\n",
    "- cik: SEC Central Index Key, a unique identifier for a company\n",
    " -sic: Standard Industrial Classification code, a numerical code used to classify industries\n",
    "\n"
   ]
  },
  {
   "cell_type": "code",
   "execution_count": 1,
   "id": "061723d8-1936-4c8e-a352-32ffebfde43a",
   "metadata": {},
   "outputs": [],
   "source": [
    "## imports\n",
    "import pandas as pd\n",
    "import os"
   ]
  },
  {
   "cell_type": "code",
   "execution_count": 2,
   "id": "fde4201d-0ce9-44b7-a854-863d336e6bc2",
   "metadata": {},
   "outputs": [],
   "source": [
    "comp = pd.read_csv('inputs/cust_supply_2019_2022.csv')"
   ]
  },
  {
   "cell_type": "code",
   "execution_count": null,
   "id": "2eab5362-07f3-4a08-8ee3-90eb526a4057",
   "metadata": {},
   "outputs": [],
   "source": []
  },
  {
   "cell_type": "code",
   "execution_count": null,
   "id": "30a770e9-15b1-43bd-9ee6-b4017397906b",
   "metadata": {},
   "outputs": [],
   "source": []
  },
  {
   "cell_type": "code",
   "execution_count": null,
   "id": "733f82e6-56a2-4ba2-974c-d09698d9b164",
   "metadata": {},
   "outputs": [],
   "source": []
  },
  {
   "cell_type": "code",
   "execution_count": null,
   "id": "3f3021e4-b409-4fc6-8c52-87f2d80bf64d",
   "metadata": {},
   "outputs": [],
   "source": []
  },
  {
   "cell_type": "code",
   "execution_count": null,
   "id": "ff027457-a894-4783-9d4d-1a7dd1c6c036",
   "metadata": {},
   "outputs": [],
   "source": []
  },
  {
   "cell_type": "code",
   "execution_count": null,
   "id": "3b8e6b7c-8ea9-4bb8-9c3f-498c59182cb4",
   "metadata": {},
   "outputs": [],
   "source": []
  },
  {
   "cell_type": "code",
   "execution_count": null,
   "id": "1928367b-39dd-405d-85b5-287ac11ed311",
   "metadata": {},
   "outputs": [],
   "source": []
  },
  {
   "cell_type": "code",
   "execution_count": null,
   "id": "d7054cc6-d557-4595-aa5f-a34c3fb087c7",
   "metadata": {},
   "outputs": [],
   "source": []
  },
  {
   "cell_type": "code",
   "execution_count": null,
   "id": "94f9cb61-ffef-45c9-9ed1-97a4a7908c76",
   "metadata": {},
   "outputs": [],
   "source": []
  },
  {
   "cell_type": "code",
   "execution_count": null,
   "id": "c10c1e1e-f236-4c54-b1b9-995ba4b2e13c",
   "metadata": {},
   "outputs": [],
   "source": []
  },
  {
   "cell_type": "code",
   "execution_count": null,
   "id": "f798c3a5-e204-43b3-9967-a60d91f5b6ed",
   "metadata": {},
   "outputs": [],
   "source": []
  },
  {
   "cell_type": "code",
   "execution_count": null,
   "id": "95ec486c-62c6-4a11-b908-a7b582ebb0f7",
   "metadata": {},
   "outputs": [],
   "source": []
  },
  {
   "cell_type": "code",
   "execution_count": null,
   "id": "79522751-85b2-458f-894e-a059934758fd",
   "metadata": {},
   "outputs": [],
   "source": []
  },
  {
   "cell_type": "code",
   "execution_count": null,
   "id": "1ec4dbaa-4030-45f4-a047-6c976f5398a6",
   "metadata": {},
   "outputs": [],
   "source": []
  },
  {
   "cell_type": "code",
   "execution_count": null,
   "id": "d063843e-04a7-4362-aa48-985e0764177e",
   "metadata": {},
   "outputs": [],
   "source": []
  },
  {
   "cell_type": "code",
   "execution_count": null,
   "id": "9daca275-93e1-4810-9197-0e7f1f74167b",
   "metadata": {},
   "outputs": [],
   "source": []
  },
  {
   "cell_type": "markdown",
   "id": "02c3384a-3fca-4d54-ad9e-b2459aaee596",
   "metadata": {
    "tags": []
   },
   "source": [
    "## Getting the SP500 data"
   ]
  },
  {
   "cell_type": "code",
   "execution_count": null,
   "id": "a2a5c9a9-f9de-4012-86d5-07701be1fa4f",
   "metadata": {},
   "outputs": [],
   "source": [
    "## downloading the SP500 info from the web\n",
    "\n",
    "os.makedirs(\"inputs\", exist_ok=True)\n",
    "sp500_file = 'inputs/sp500_2022.csv'\n",
    "\n",
    "if not os.path.exists(sp500_file):\n",
    "    url = 'https://en.wikipedia.org/wiki/List_of_S%26P_500_companies'\n",
    "    pd.read_html(url)[0].to_csv(sp500_file,index=False)\n",
    "\n",
    "sp500 = pd.read_csv('inputs/sp500_2022.csv')"
   ]
  },
  {
   "cell_type": "code",
   "execution_count": null,
   "id": "f0077a35-d31a-441a-95a1-97157460b9ac",
   "metadata": {},
   "outputs": [],
   "source": [
    "## merging the sp500 dataset to the compustat dataset\n",
    "\n",
    "# add merge code here"
   ]
  }
 ],
 "metadata": {
  "kernelspec": {
   "display_name": "Python 3 (ipykernel)",
   "language": "python",
   "name": "python3"
  },
  "language_info": {
   "codemirror_mode": {
    "name": "ipython",
    "version": 3
   },
   "file_extension": ".py",
   "mimetype": "text/x-python",
   "name": "python",
   "nbconvert_exporter": "python",
   "pygments_lexer": "ipython3",
   "version": "3.9.16"
  }
 },
 "nbformat": 4,
 "nbformat_minor": 5
}
