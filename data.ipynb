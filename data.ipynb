{
 "cells": [
  {
   "cell_type": "code",
   "execution_count": null,
   "id": "fde4201d-0ce9-44b7-a854-863d336e6bc2",
   "metadata": {},
   "outputs": [],
   "source": []
  },
  {
   "cell_type": "markdown",
   "id": "02c3384a-3fca-4d54-ad9e-b2459aaee596",
   "metadata": {},
   "source": [
    "## Getting the SP500 data"
   ]
  },
  {
   "cell_type": "code",
   "execution_count": null,
   "id": "a2a5c9a9-f9de-4012-86d5-07701be1fa4f",
   "metadata": {},
   "outputs": [],
   "source": [
    "## downloading the SP500 info from the web\n",
    "\n",
    "os.makedirs(\"inputs\", exist_ok=True)\n",
    "sp500_file = 'inputs/sp500_2022.csv'\n",
    "\n",
    "if not os.path.exists(sp500_file):\n",
    "    url = 'https://en.wikipedia.org/wiki/List_of_S%26P_500_companies'\n",
    "    pd.read_html(url)[0].to_csv(sp500_file,index=False)\n",
    "\n",
    "sp500 = pd.read_csv('inputs/sp500_2022.csv')"
   ]
  },
  {
   "cell_type": "code",
   "execution_count": null,
   "id": "f0077a35-d31a-441a-95a1-97157460b9ac",
   "metadata": {},
   "outputs": [],
   "source": [
    "## merging the sp500 dataset to the compustat dataset\n",
    "\n",
    "# add merge code here"
   ]
  }
 ],
 "metadata": {
  "kernelspec": {
   "display_name": "Python 3 (ipykernel)",
   "language": "python",
   "name": "python3"
  },
  "language_info": {
   "codemirror_mode": {
    "name": "ipython",
    "version": 3
   },
   "file_extension": ".py",
   "mimetype": "text/x-python",
   "name": "python",
   "nbconvert_exporter": "python",
   "pygments_lexer": "ipython3",
   "version": "3.8.16"
  }
 },
 "nbformat": 4,
 "nbformat_minor": 5
}
