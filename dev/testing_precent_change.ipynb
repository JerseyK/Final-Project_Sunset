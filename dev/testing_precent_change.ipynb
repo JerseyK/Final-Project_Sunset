{
 "cells": [
  {
   "cell_type": "code",
   "execution_count": 1,
   "id": "62dcae43-a88f-493f-87e2-acaa84f6193e",
   "metadata": {},
   "outputs": [],
   "source": [
    "## testing"
   ]
  },
  {
   "cell_type": "code",
   "execution_count": 28,
   "id": "d22d6b4a-2dab-4f2e-afeb-c2adc400d6fd",
   "metadata": {},
   "outputs": [
    {
     "name": "stdout",
     "output_type": "stream",
     "text": [
      "Index:0, Year:2019\n",
      "5 10\n",
      "Index:1, Year:2020\n",
      "Index:2, Year:2019\n",
      "40 14\n",
      "Index:3, Year:2020\n"
     ]
    },
    {
     "data": {
      "text/html": [
       "<div>\n",
       "<style scoped>\n",
       "    .dataframe tbody tr th:only-of-type {\n",
       "        vertical-align: middle;\n",
       "    }\n",
       "\n",
       "    .dataframe tbody tr th {\n",
       "        vertical-align: top;\n",
       "    }\n",
       "\n",
       "    .dataframe thead th {\n",
       "        text-align: right;\n",
       "    }\n",
       "</style>\n",
       "<table border=\"1\" class=\"dataframe\">\n",
       "  <thead>\n",
       "    <tr style=\"text-align: right;\">\n",
       "      <th></th>\n",
       "      <th>Security</th>\n",
       "      <th>Year</th>\n",
       "      <th>one value</th>\n",
       "      <th>second value</th>\n",
       "      <th>one change</th>\n",
       "      <th>another change</th>\n",
       "    </tr>\n",
       "  </thead>\n",
       "  <tbody>\n",
       "    <tr>\n",
       "      <th>0</th>\n",
       "      <td>3M</td>\n",
       "      <td>2019</td>\n",
       "      <td>5</td>\n",
       "      <td>10</td>\n",
       "      <td>NaN</td>\n",
       "      <td>NaN</td>\n",
       "    </tr>\n",
       "    <tr>\n",
       "      <th>1</th>\n",
       "      <td>3M</td>\n",
       "      <td>2020</td>\n",
       "      <td>10</td>\n",
       "      <td>26</td>\n",
       "      <td>100.0</td>\n",
       "      <td>160.000000</td>\n",
       "    </tr>\n",
       "    <tr>\n",
       "      <th>2</th>\n",
       "      <td>APPL</td>\n",
       "      <td>2019</td>\n",
       "      <td>40</td>\n",
       "      <td>14</td>\n",
       "      <td>NaN</td>\n",
       "      <td>NaN</td>\n",
       "    </tr>\n",
       "    <tr>\n",
       "      <th>3</th>\n",
       "      <td>APPL</td>\n",
       "      <td>2020</td>\n",
       "      <td>60</td>\n",
       "      <td>30</td>\n",
       "      <td>50.0</td>\n",
       "      <td>114.285714</td>\n",
       "    </tr>\n",
       "  </tbody>\n",
       "</table>\n",
       "</div>"
      ],
      "text/plain": [
       "  Security  Year  one value  second value  one change  another change\n",
       "0       3M  2019          5            10         NaN             NaN\n",
       "1       3M  2020         10            26       100.0      160.000000\n",
       "2     APPL  2019         40            14         NaN             NaN\n",
       "3     APPL  2020         60            30        50.0      114.285714"
      ]
     },
     "execution_count": 28,
     "metadata": {},
     "output_type": "execute_result"
    }
   ],
   "source": [
    "import numpy as np\n",
    "import pandas as pd\n",
    "import random\n",
    "\n",
    "# step 1 will load some database and prep it for the loopy parts\n",
    "# here, we will just use a toy dataset\n",
    "\n",
    "toy_database = pd.DataFrame({\"Security\":['3M','3M','APPL', 'APPL'],\n",
    "             \"Year\":['2019','2020','2019', '2020'],\n",
    "                             \"one value\":[5,10,40, 60],\n",
    "                            \"second value\":[10,26,14, 30]})\n",
    "\n",
    "toy_database\n",
    "\n",
    "one_value = 0\n",
    "two_value = 0\n",
    "\n",
    "for index, row in toy_database.iterrows():\n",
    "    print(f\"Index:{index}, Year:{row['Year']}\")\n",
    "    # row can be used like row['var_name']\n",
    "    if index%2 ==0:\n",
    "        one_value = row['one value']\n",
    "        two_value = row['second value']\n",
    "        print(one_value,two_value)\n",
    "    if index%2 ==1:\n",
    "        calc_value1 = (row['one value'] - one_value) / one_value * 100\n",
    "        calc_value2 = (row['second value'] - two_value) / two_value * 100\n",
    "        toy_database.loc[index,'one change'] = calc_value1\n",
    "        toy_database.loc[index,'another change'] = calc_value2\n",
    "\n",
    "        \n",
    "\n",
    "toy_database"
   ]
  },
  {
   "cell_type": "code",
   "execution_count": null,
   "id": "bc34c94d-0e5e-4c90-9c86-78b58bb4a2bc",
   "metadata": {},
   "outputs": [],
   "source": []
  },
  {
   "cell_type": "code",
   "execution_count": null,
   "id": "2d0c66e2-a27c-4598-9b7e-530719909bb1",
   "metadata": {},
   "outputs": [],
   "source": []
  }
 ],
 "metadata": {
  "kernelspec": {
   "display_name": "Python 3 (ipykernel)",
   "language": "python",
   "name": "python3"
  },
  "language_info": {
   "codemirror_mode": {
    "name": "ipython",
    "version": 3
   },
   "file_extension": ".py",
   "mimetype": "text/x-python",
   "name": "python",
   "nbconvert_exporter": "python",
   "pygments_lexer": "ipython3",
   "version": "3.8.16"
  }
 },
 "nbformat": 4,
 "nbformat_minor": 5
}
