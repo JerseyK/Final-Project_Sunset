{
 "cells": [
  {
   "cell_type": "markdown",
   "id": "94cebb47-2793-4d6b-9506-b75ef3c0cf9a",
   "metadata": {},
   "source": [
    " ## Data Analysis"
   ]
  },
  {
   "cell_type": "markdown",
   "id": "2c91548d-6422-44ec-95a2-04560ac22db2",
   "metadata": {},
   "source": [
    "### Here is a breakdown of what each column represents:\n",
    "\n",
    "- gvkey: a unique identifier for the company (Global Company Key)\n",
    "- cid: a unique identifier for the customer\n",
    "- cnms: customer name\n",
    "- ctype: customer type\n",
    "- gareac: geographic area code\n",
    "- gareat: geographic area type\n",
    "- salecs: sales in current period (in millions)\n",
    "- sid: segment identifier\n",
    "- stype: segment type\n",
    "- srcdate: source date\n",
    "- conm: company name\n",
    "- tic: stock ticker symbol\n",
    "- cusip: CUSIP number, a unique identifier for a security\n",
    "- cik: SEC Central Index Key, a unique identifier for a company\n",
    "- sic: Standard Industrial Classification code, a numerical code used to classify industries\n",
    "\n"
   ]
  },
  {
   "cell_type": "code",
   "execution_count": 1,
   "id": "af2ccaa3-16c3-498f-bf73-92e9f377b4a0",
   "metadata": {
    "tags": []
   },
   "outputs": [],
   "source": [
    "## imports\n",
    "import pandas as pd\n",
    "import numpy as np\n",
    "import os\n",
    "#from eda import insufficient_but_starting_eda\n",
    "import seaborn as sns"
   ]
  },
  {
   "cell_type": "markdown",
   "id": "3fe5da79-24b0-444f-b0cd-4dfc85d1bbe4",
   "metadata": {
    "tags": []
   },
   "source": [
    "## Getting the SP500 data"
   ]
  },
  {
   "cell_type": "code",
   "execution_count": 2,
   "id": "6989f3a1-c421-4de1-9620-ef4ea696de19",
   "metadata": {
    "tags": []
   },
   "outputs": [],
   "source": [
    "## downloading the SP500 info from the web\n",
    "\n",
    "os.makedirs(\"inputs\", exist_ok=True)\n",
    "sp500_file = 'inputs/sp500_2022.csv'\n",
    "\n",
    "if not os.path.exists(sp500_file):\n",
    "    url = 'https://en.wikipedia.org/wiki/List_of_S%26P_500_companies'\n",
    "    pd.read_html(url)[0].to_csv(sp500_file,index=False)"
   ]
  },
  {
   "cell_type": "code",
   "execution_count": 3,
   "id": "2a652ad3-b33f-4dc7-9ed6-aa0bbf654e4f",
   "metadata": {
    "tags": []
   },
   "outputs": [],
   "source": [
    "# comp = pd.read_csv('inputs/cust_supply_2019_2022.csv')\n",
    "# comp"
   ]
  },
  {
   "cell_type": "code",
   "execution_count": 4,
   "id": "ee686e8a-b7a9-438a-9623-a59bfbb2bbdf",
   "metadata": {
    "tags": []
   },
   "outputs": [
    {
     "data": {
      "text/html": [
       "<div>\n",
       "<style scoped>\n",
       "    .dataframe tbody tr th:only-of-type {\n",
       "        vertical-align: middle;\n",
       "    }\n",
       "\n",
       "    .dataframe tbody tr th {\n",
       "        vertical-align: top;\n",
       "    }\n",
       "\n",
       "    .dataframe thead th {\n",
       "        text-align: right;\n",
       "    }\n",
       "</style>\n",
       "<table border=\"1\" class=\"dataframe\">\n",
       "  <thead>\n",
       "    <tr style=\"text-align: right;\">\n",
       "      <th></th>\n",
       "      <th>Symbol</th>\n",
       "      <th>Security</th>\n",
       "      <th>GICS Sector</th>\n",
       "      <th>GICS Sub-Industry</th>\n",
       "      <th>Headquarters Location</th>\n",
       "      <th>Date added</th>\n",
       "      <th>CIK</th>\n",
       "      <th>Founded</th>\n",
       "    </tr>\n",
       "  </thead>\n",
       "  <tbody>\n",
       "    <tr>\n",
       "      <th>0</th>\n",
       "      <td>MMM</td>\n",
       "      <td>3M</td>\n",
       "      <td>Industrials</td>\n",
       "      <td>Industrial Conglomerates</td>\n",
       "      <td>Saint Paul, Minnesota</td>\n",
       "      <td>1957-03-04</td>\n",
       "      <td>66740</td>\n",
       "      <td>1902</td>\n",
       "    </tr>\n",
       "    <tr>\n",
       "      <th>1</th>\n",
       "      <td>AOS</td>\n",
       "      <td>A. O. Smith</td>\n",
       "      <td>Industrials</td>\n",
       "      <td>Building Products</td>\n",
       "      <td>Milwaukee, Wisconsin</td>\n",
       "      <td>2017-07-26</td>\n",
       "      <td>91142</td>\n",
       "      <td>1916</td>\n",
       "    </tr>\n",
       "    <tr>\n",
       "      <th>2</th>\n",
       "      <td>ABT</td>\n",
       "      <td>Abbott</td>\n",
       "      <td>Health Care</td>\n",
       "      <td>Health Care Equipment</td>\n",
       "      <td>North Chicago, Illinois</td>\n",
       "      <td>1957-03-04</td>\n",
       "      <td>1800</td>\n",
       "      <td>1888</td>\n",
       "    </tr>\n",
       "    <tr>\n",
       "      <th>3</th>\n",
       "      <td>ABBV</td>\n",
       "      <td>AbbVie</td>\n",
       "      <td>Health Care</td>\n",
       "      <td>Pharmaceuticals</td>\n",
       "      <td>North Chicago, Illinois</td>\n",
       "      <td>2012-12-31</td>\n",
       "      <td>1551152</td>\n",
       "      <td>2013 (1888)</td>\n",
       "    </tr>\n",
       "    <tr>\n",
       "      <th>4</th>\n",
       "      <td>ACN</td>\n",
       "      <td>Accenture</td>\n",
       "      <td>Information Technology</td>\n",
       "      <td>IT Consulting &amp; Other Services</td>\n",
       "      <td>Dublin, Ireland</td>\n",
       "      <td>2011-07-06</td>\n",
       "      <td>1467373</td>\n",
       "      <td>1989</td>\n",
       "    </tr>\n",
       "    <tr>\n",
       "      <th>...</th>\n",
       "      <td>...</td>\n",
       "      <td>...</td>\n",
       "      <td>...</td>\n",
       "      <td>...</td>\n",
       "      <td>...</td>\n",
       "      <td>...</td>\n",
       "      <td>...</td>\n",
       "      <td>...</td>\n",
       "    </tr>\n",
       "    <tr>\n",
       "      <th>498</th>\n",
       "      <td>YUM</td>\n",
       "      <td>Yum! Brands</td>\n",
       "      <td>Consumer Discretionary</td>\n",
       "      <td>Restaurants</td>\n",
       "      <td>Louisville, Kentucky</td>\n",
       "      <td>1997-10-06</td>\n",
       "      <td>1041061</td>\n",
       "      <td>1997</td>\n",
       "    </tr>\n",
       "    <tr>\n",
       "      <th>499</th>\n",
       "      <td>ZBRA</td>\n",
       "      <td>Zebra Technologies</td>\n",
       "      <td>Information Technology</td>\n",
       "      <td>Electronic Equipment &amp; Instruments</td>\n",
       "      <td>Lincolnshire, Illinois</td>\n",
       "      <td>2019-12-23</td>\n",
       "      <td>877212</td>\n",
       "      <td>1969</td>\n",
       "    </tr>\n",
       "    <tr>\n",
       "      <th>500</th>\n",
       "      <td>ZBH</td>\n",
       "      <td>Zimmer Biomet</td>\n",
       "      <td>Health Care</td>\n",
       "      <td>Health Care Equipment</td>\n",
       "      <td>Warsaw, Indiana</td>\n",
       "      <td>2001-08-07</td>\n",
       "      <td>1136869</td>\n",
       "      <td>1927</td>\n",
       "    </tr>\n",
       "    <tr>\n",
       "      <th>501</th>\n",
       "      <td>ZION</td>\n",
       "      <td>Zions Bancorporation</td>\n",
       "      <td>Financials</td>\n",
       "      <td>Regional Banks</td>\n",
       "      <td>Salt Lake City, Utah</td>\n",
       "      <td>2001-06-22</td>\n",
       "      <td>109380</td>\n",
       "      <td>1873</td>\n",
       "    </tr>\n",
       "    <tr>\n",
       "      <th>502</th>\n",
       "      <td>ZTS</td>\n",
       "      <td>Zoetis</td>\n",
       "      <td>Health Care</td>\n",
       "      <td>Pharmaceuticals</td>\n",
       "      <td>Parsippany, New Jersey</td>\n",
       "      <td>2013-06-21</td>\n",
       "      <td>1555280</td>\n",
       "      <td>1952</td>\n",
       "    </tr>\n",
       "  </tbody>\n",
       "</table>\n",
       "<p>503 rows × 8 columns</p>\n",
       "</div>"
      ],
      "text/plain": [
       "    Symbol              Security             GICS Sector  \\\n",
       "0      MMM                    3M             Industrials   \n",
       "1      AOS           A. O. Smith             Industrials   \n",
       "2      ABT                Abbott             Health Care   \n",
       "3     ABBV                AbbVie             Health Care   \n",
       "4      ACN             Accenture  Information Technology   \n",
       "..     ...                   ...                     ...   \n",
       "498    YUM           Yum! Brands  Consumer Discretionary   \n",
       "499   ZBRA    Zebra Technologies  Information Technology   \n",
       "500    ZBH         Zimmer Biomet             Health Care   \n",
       "501   ZION  Zions Bancorporation              Financials   \n",
       "502    ZTS                Zoetis             Health Care   \n",
       "\n",
       "                      GICS Sub-Industry    Headquarters Location  Date added  \\\n",
       "0              Industrial Conglomerates    Saint Paul, Minnesota  1957-03-04   \n",
       "1                     Building Products     Milwaukee, Wisconsin  2017-07-26   \n",
       "2                 Health Care Equipment  North Chicago, Illinois  1957-03-04   \n",
       "3                       Pharmaceuticals  North Chicago, Illinois  2012-12-31   \n",
       "4        IT Consulting & Other Services          Dublin, Ireland  2011-07-06   \n",
       "..                                  ...                      ...         ...   \n",
       "498                         Restaurants     Louisville, Kentucky  1997-10-06   \n",
       "499  Electronic Equipment & Instruments   Lincolnshire, Illinois  2019-12-23   \n",
       "500               Health Care Equipment          Warsaw, Indiana  2001-08-07   \n",
       "501                      Regional Banks     Salt Lake City, Utah  2001-06-22   \n",
       "502                     Pharmaceuticals   Parsippany, New Jersey  2013-06-21   \n",
       "\n",
       "         CIK      Founded  \n",
       "0      66740         1902  \n",
       "1      91142         1916  \n",
       "2       1800         1888  \n",
       "3    1551152  2013 (1888)  \n",
       "4    1467373         1989  \n",
       "..       ...          ...  \n",
       "498  1041061         1997  \n",
       "499   877212         1969  \n",
       "500  1136869         1927  \n",
       "501   109380         1873  \n",
       "502  1555280         1952  \n",
       "\n",
       "[503 rows x 8 columns]"
      ]
     },
     "execution_count": 4,
     "metadata": {},
     "output_type": "execute_result"
    }
   ],
   "source": [
    "sp500 = pd.read_csv('inputs/sp500_2022.csv')\n",
    "sp500"
   ]
  },
  {
   "cell_type": "markdown",
   "id": "5577c4cd-1cb6-4fa6-afb7-535dde429c18",
   "metadata": {},
   "source": [
    "# Merging the data"
   ]
  },
  {
   "cell_type": "code",
   "execution_count": 5,
   "id": "a782a73c-9725-4bfb-8533-5ff30e57a072",
   "metadata": {
    "tags": []
   },
   "outputs": [
    {
     "ename": "NameError",
     "evalue": "name 'comp' is not defined",
     "output_type": "error",
     "traceback": [
      "\u001b[0;31m---------------------------------------------------------------------------\u001b[0m",
      "\u001b[0;31mNameError\u001b[0m                                 Traceback (most recent call last)",
      "Cell \u001b[0;32mIn[5], line 3\u001b[0m\n\u001b[1;32m      1\u001b[0m \u001b[38;5;66;03m# Select rows where 'cnms' is not equal to 'U.S. Government'\u001b[39;00m\n\u001b[0;32m----> 3\u001b[0m comp2 \u001b[38;5;241m=\u001b[39m \u001b[43mcomp\u001b[49m\n\u001b[1;32m      4\u001b[0m \u001b[38;5;66;03m#comp2 = comp[comp['ctype'] == 'COMPANY']\u001b[39;00m\n\u001b[1;32m      5\u001b[0m comp2 \u001b[38;5;241m=\u001b[39m comp2[comp2[\u001b[38;5;124m'\u001b[39m\u001b[38;5;124mcnms\u001b[39m\u001b[38;5;124m'\u001b[39m] \u001b[38;5;241m!=\u001b[39m \u001b[38;5;124m'\u001b[39m\u001b[38;5;124mNot Reported\u001b[39m\u001b[38;5;124m'\u001b[39m]\n",
      "\u001b[0;31mNameError\u001b[0m: name 'comp' is not defined"
     ]
    }
   ],
   "source": [
    "# Select rows where 'cnms' is not equal to 'U.S. Government'\n",
    "\n",
    "comp2 = comp\n",
    "#comp2 = comp[comp['ctype'] == 'COMPANY']\n",
    "comp2 = comp2[comp2['cnms'] != 'Not Reported']\n",
    "# comp4 = comp2[comp2['cnms'] == 'Not Reported']\n",
    "# comp4\n",
    "\n",
    "comp3 = comp2.dropna(subset=['salecs'])\n",
    "comp3"
   ]
  },
  {
   "cell_type": "code",
   "execution_count": null,
   "id": "ce1bdadb-77cd-4d9f-b352-e2475c40dce0",
   "metadata": {
    "tags": []
   },
   "outputs": [],
   "source": [
    "comp3 = comp3.rename(columns = {'cik': 'CIK'})\n",
    "merged = comp3.merge(sp500, on='CIK', how = 'inner')\n",
    "merged"
   ]
  },
  {
   "cell_type": "code",
   "execution_count": null,
   "id": "8a14ded5-7189-4da0-8724-f7195b9087cb",
   "metadata": {
    "tags": []
   },
   "outputs": [],
   "source": [
    "#looking at the dates - see there is a filing in every month...\n",
    "merged['date'] = pd.to_datetime(merged['srcdate'])\n",
    "dates = merged.sort_values(by='srcdate')\n",
    "print(dates['srcdate'])"
   ]
  },
  {
   "cell_type": "code",
   "execution_count": null,
   "id": "b55a2d81-21cf-4302-b338-2cc9041cf436",
   "metadata": {},
   "outputs": [],
   "source": [
    "start_date = '2020-01-01'\n",
    "end_date = '2021-12-31'\n",
    "filtered_df = merged.query('@start_date <= date <= @end_date')\n",
    "\n",
    "# get the indices of the filtered dates\n",
    "filtered_indices = filtered_df.index\n",
    "\n",
    "# drop the filtered dates from the original dataframe\n",
    "filtered_out_df = merged.drop(filtered_indices)\n",
    "\n",
    "filtered_out_df"
   ]
  },
  {
   "cell_type": "code",
   "execution_count": null,
   "id": "98ba96b8-12f1-4a93-b943-bcbfa65b646a",
   "metadata": {},
   "outputs": [],
   "source": [
    "listkeys = pd.DataFrame(filtered_out_df['gvkey'].unique())\n",
    "listkeys.to_csv('inputs/listkeys.csv', index=False)"
   ]
  },
  {
   "cell_type": "code",
   "execution_count": null,
   "id": "29a563ed-56c9-4725-a1a1-01dd5813219b",
   "metadata": {
    "tags": []
   },
   "outputs": [],
   "source": [
    "g = merged.groupby(\"CIK\")['cnms'].apply(lambda x: list(np.unique(x)))\n",
    "len(g)"
   ]
  },
  {
   "cell_type": "markdown",
   "id": "a93b7b4a-f5da-4996-9090-2081aa8e5e5c",
   "metadata": {},
   "source": [
    "### EDA"
   ]
  },
  {
   "cell_type": "code",
   "execution_count": null,
   "id": "abf91ed1-69a5-41b6-af09-73f34e3fc0c3",
   "metadata": {},
   "outputs": [],
   "source": [
    "insufficient_but_starting_eda(comp, ['cnms', 'ctype', 'gareac', 'gareat', \n",
    "                            'stype', 'srcdate', 'conm', 'tic', 'cusip'])\n"
   ]
  },
  {
   "cell_type": "code",
   "execution_count": null,
   "id": "11e36e23-a3fd-4d90-9536-d274539dfa1f",
   "metadata": {},
   "outputs": [],
   "source": [
    "comp.describe() # describes integers"
   ]
  },
  {
   "cell_type": "code",
   "execution_count": null,
   "id": "3655250e-efbd-4b42-9e8c-c61cf5b4d2ad",
   "metadata": {},
   "outputs": [],
   "source": [
    "##missing values\n",
    "ccm = comp\n",
    "(\n",
    "    ( # these lines do the calculation - what % of missing values are there for each var\n",
    "        ccm.isna()      # ccm.isna() TURNS every obs/variable = 1 when its missing and 0 else\n",
    "       .sum(axis=0)     # count the number of na for each variable (now data is 1 obs per column = # missing)\n",
    "        /len(ccm)       # convert # missing to % missing \n",
    "        *100            # report as percentage\n",
    "    ) \n",
    "    # you can stop here and report this...\n",
    "    # but I wanted to format it a bit...\n",
    "    .sort_values(ascending=False)[:13]\n",
    "    .to_frame(name='% missing') # the next line only works on a frame, and because pandas sees only 1 variable at this pt\n",
    "    .style.format(\"{:.1f}\")     # in the code, it calls this a \"series\" type object, so convert it to dataframe type object\n",
    ")\n",
    "#"
   ]
  },
  {
   "cell_type": "code",
   "execution_count": null,
   "id": "4f55d38b-a416-410d-9009-3af7ce6c616d",
   "metadata": {},
   "outputs": [],
   "source": []
  },
  {
   "cell_type": "code",
   "execution_count": null,
   "id": "0d8e050a-5773-4d5f-a340-4810e42ce72c",
   "metadata": {},
   "outputs": [],
   "source": []
  },
  {
   "cell_type": "code",
   "execution_count": null,
   "id": "83b9e593-4bf3-4eb3-bff2-932f5e368e64",
   "metadata": {},
   "outputs": [],
   "source": []
  },
  {
   "cell_type": "code",
   "execution_count": null,
   "id": "ce2b9f86-0bcb-4a5f-978b-29f67afe5188",
   "metadata": {},
   "outputs": [],
   "source": []
  },
  {
   "cell_type": "code",
   "execution_count": null,
   "id": "7640c2ed-7637-4a25-8dc1-01861eccbf70",
   "metadata": {},
   "outputs": [],
   "source": []
  },
  {
   "cell_type": "code",
   "execution_count": null,
   "id": "01ab3470-41bc-4cef-813c-f02202bf559c",
   "metadata": {},
   "outputs": [],
   "source": []
  },
  {
   "cell_type": "code",
   "execution_count": null,
   "id": "8c14ff97-d1a1-496e-8652-06bbaa25c182",
   "metadata": {},
   "outputs": [],
   "source": []
  }
 ],
 "metadata": {
  "kernelspec": {
   "display_name": "Python 3 (ipykernel)",
   "language": "python",
   "name": "python3"
  },
  "language_info": {
   "codemirror_mode": {
    "name": "ipython",
    "version": 3
   },
   "file_extension": ".py",
   "mimetype": "text/x-python",
   "name": "python",
   "nbconvert_exporter": "python",
   "pygments_lexer": "ipython3",
   "version": "3.8.16"
  }
 },
 "nbformat": 4,
 "nbformat_minor": 5
}
