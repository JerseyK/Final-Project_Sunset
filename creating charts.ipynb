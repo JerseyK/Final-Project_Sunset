{
 "cells": [
  {
   "cell_type": "code",
   "execution_count": null,
   "metadata": {},
   "outputs": [],
   "source": [
    "import numpy as np\n",
    "import pandas as pd\n",
    "# import matplotlib as plt\n",
    "# import seaborn as sns\n",
    "import plotly.express as px\n",
    "# import plotly.graph_objects as go\n",
    "# import plotly.io as pio\n",
    "import streamlit as st\n",
    "import altair as alt"
   ]
  },
  {
   "cell_type": "code",
   "execution_count": null,
   "metadata": {},
   "outputs": [],
   "source": [
    "@st.cache_data\n",
    "#######################################,,,\n",
    "##ANOTHER WAY FOR MAKING THE GRAPHS\n",
    "# Load data\n",
    "df = pd.read_csv('data/merge.csv')\n",
    "\n",
    "# Convert srcdate to a datetime column\n",
    "df['srcdate'] = pd.to_datetime(df['srcdate'])\n",
    "\n",
    "# Create a year column\n",
    "df['year'] = df['srcdate'].dt.year\n",
    "\n",
    "# Create a bar chart\n",
    "@st.cache\n",
    "def create_bar_chart(df):\n",
    "    chart = alt.Chart(df).mark_bar().encode(\n",
    "        x='GICS Sector',\n",
    "        y='sales',\n",
    "        color='ctype',\n",
    "        column='year'\n",
    "    ).properties(\n",
    "        width=300,\n",
    "        height=300,\n",
    "        title='Sales by GICS Sector and Ctype'\n",
    "    )\n",
    "    return chart\n",
    "\n",
    "# Group the data by ctype, GICS Sector, and year\n",
    "grouped_df = df.groupby(['ctype', 'GICS Sector', 'year'])['sales'].sum().reset_index()\n",
    "\n",
    "# Normalize sales to get percentages\n",
    "grouped_df['sales'] = grouped_df.groupby(['ctype', 'year'])['sales'].apply(lambda x: x/x.sum())\n",
    "\n",
    "# Create the bar chart\n",
    "chart = create_bar_chart(grouped_df)\n",
    "\n",
    "# Display the chart\n",
    "st.altair_chart(chart)\n",
    "##########################################'''"
   ]
  }
 ],
 "metadata": {
  "language_info": {
   "name": "python"
  },
  "orig_nbformat": 4
 },
 "nbformat": 4,
 "nbformat_minor": 2
}
